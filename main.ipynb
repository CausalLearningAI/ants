{
 "cells": [
  {
   "cell_type": "code",
   "execution_count": null,
   "metadata": {},
   "outputs": [],
   "source": [
    "import warnings\n",
    "warnings.filterwarnings(\"ignore\")\n",
    "import sys\n",
    "sys.path.append('./src')\n",
    "\n",
    "from data import PPCI"
   ]
  },
  {
   "cell_type": "code",
   "execution_count": null,
   "metadata": {},
   "outputs": [],
   "source": [
    "# load dataset\n",
    "dataset = PPCI(encoder = \"dino\",\n",
    "               token = \"class\",\n",
    "               task = \"or\",\n",
    "               split_criteria = \"experiment\",\n",
    "               environment = \"supervised\",\n",
    "               batch_size = 64,\n",
    "               num_proc = 4,\n",
    "               verbose = True,\n",
    "               data_dir = 'data/v2',\n",
    "               generate = False,\n",
    "               background = True,\n",
    "               results_dir = f'results/v2')"
   ]
  },
  {
   "cell_type": "code",
   "execution_count": null,
   "metadata": {},
   "outputs": [],
   "source": [
    "# example train\n",
    "dataset.train(add_pred_env=\"supervised\", \n",
    "            hidden_layers = 2,\n",
    "            hidden_nodes = 16,\n",
    "            batch_size = 64,\n",
    "            lr = 0.0005,\n",
    "            num_epochs=100,\n",
    "            save = False,\n",
    "            verbose=True,\n",
    "            method=\"DERM\",\n",
    "            ic_weight=10,\n",
    "            gpu=False,\n",
    "            seed=1)\n",
    "dataset.evaluate(color=None, verbose=True)\n",
    "# dataset.evaluate(color=\"blue\", verbose=True)\n",
    "# dataset.evaluate(color=\"yellow\", verbose=True)"
   ]
  },
  {
   "cell_type": "code",
   "execution_count": null,
   "metadata": {},
   "outputs": [],
   "source": [
    "dataset.model.best_epoch"
   ]
  }
 ],
 "metadata": {
  "kernelspec": {
   "display_name": "crl",
   "language": "python",
   "name": "python3"
  },
  "language_info": {
   "codemirror_mode": {
    "name": "ipython",
    "version": 3
   },
   "file_extension": ".py",
   "mimetype": "text/x-python",
   "name": "python",
   "nbconvert_exporter": "python",
   "pygments_lexer": "ipython3",
   "version": "3.11.5"
  }
 },
 "nbformat": 4,
 "nbformat_minor": 2
}
