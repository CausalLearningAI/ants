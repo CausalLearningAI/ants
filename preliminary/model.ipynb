{
 "cells": [
  {
   "cell_type": "code",
   "execution_count": null,
   "id": "709ebf59",
   "metadata": {},
   "outputs": [],
   "source": [
    "import warnings\n",
    "warnings.filterwarnings(\"ignore\")\n",
    "import sys \n",
    "sys.path.append(\"../src\")\n",
    "\n",
    "from model import get_classifier\n",
    "from utils import get_model_size"
   ]
  },
  {
   "cell_type": "code",
   "execution_count": null,
   "id": "65a548a4",
   "metadata": {},
   "outputs": [],
   "source": [
    "model = get_classifier(task=\"all\", cls_name=\"Transformer\")\n",
    "total_params = sum(p.numel() for p in model.parameters() if p.requires_grad)\n",
    "momery = get_model_size(model)\n",
    "print(f\"Transformer: {total_params} trainable parameters, {momery:.2f} MB memory\")\n",
    "\n",
    "model = get_classifier(task=\"all\", cls_name=\"ConvNet\")\n",
    "total_params = sum(p.numel() for p in model.parameters() if p.requires_grad)\n",
    "momery = get_model_size(model)\n",
    "print(f\"ConvNet:      {total_params} trainable parameters,  {momery:.2f} MB memory\")\n",
    "\n",
    "model = get_classifier(task=\"all\", cls_name=\"MLP\")\n",
    "total_params = sum(p.numel() for p in model.parameters() if p.requires_grad)\n",
    "momery = get_model_size(model)\n",
    "print(f\"MLP:          {total_params} trainable parameters,  {momery:.2f} MB memory\")"
   ]
  },
  {
   "cell_type": "code",
   "execution_count": null,
   "id": "0063f51e",
   "metadata": {},
   "outputs": [],
   "source": [
    "model = get_classifier(task=\"all\", cls_name=\"Transformer\")\n",
    "model"
   ]
  },
  {
   "cell_type": "code",
   "execution_count": null,
   "id": "0a8f6a6f",
   "metadata": {},
   "outputs": [],
   "source": [
    "# feed forward\n",
    "import torch\n",
    "X = torch.randn(1000, 7, 768)\n",
    "model.cond_exp(X).shape"
   ]
  }
 ],
 "metadata": {
  "kernelspec": {
   "display_name": "crl",
   "language": "python",
   "name": "python3"
  },
  "language_info": {
   "codemirror_mode": {
    "name": "ipython",
    "version": 3
   },
   "file_extension": ".py",
   "mimetype": "text/x-python",
   "name": "python",
   "nbconvert_exporter": "python",
   "pygments_lexer": "ipython3",
   "version": "3.11.5"
  }
 },
 "nbformat": 4,
 "nbformat_minor": 5
}
