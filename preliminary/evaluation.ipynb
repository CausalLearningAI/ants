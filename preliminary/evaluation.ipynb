{
 "cells": [
  {
   "cell_type": "markdown",
   "id": "4cfaa690",
   "metadata": {},
   "source": [
    "## See Sample CLIPS"
   ]
  },
  {
   "cell_type": "code",
   "execution_count": null,
   "id": "42c76050",
   "metadata": {},
   "outputs": [],
   "source": [
    "import warnings\n",
    "warnings.filterwarnings(\"ignore\")\n",
    "from data import PPCI\n",
    "\n",
    "import matplotlib.pyplot as plt\n",
    "from matplotlib.animation import FuncAnimation"
   ]
  },
  {
   "cell_type": "code",
   "execution_count": null,
   "id": "da6af390",
   "metadata": {},
   "outputs": [],
   "source": [
    "# load dataset\n",
    "dataset = PPCI(encoder = \"dino\",\n",
    "               token = \"class\",\n",
    "               task = \"or\",\n",
    "               split_criteria = \"experiment\",\n",
    "               environment = \"supervised\",\n",
    "               batch_size = 64,\n",
    "               num_proc = 4,\n",
    "               verbose = True,\n",
    "               data_dir = 'data/v2',\n",
    "               generate = False,\n",
    "               background = True,\n",
    "               results_dir = f'results/v2')"
   ]
  },
  {
   "cell_type": "code",
   "execution_count": null,
   "id": "efca5f3a",
   "metadata": {},
   "outputs": [],
   "source": [
    "# visualize random clip\n",
    "n = 5120\n",
    "clip = dataset.supervised[\"source_data\"][n][\"clip\"]\n",
    "T = dataset.supervised[\"T\"][n]\n",
    "Y = dataset.supervised[\"Y\"][n]\n",
    "exp = dataset.supervised[\"source_data\"][n][\"experiment\"]\n",
    "exp = chr(ord('A') + exp)\n",
    "pos = dataset.supervised[\"source_data\"][n][\"position\"]\n",
    "minute = int(dataset.supervised[\"source_data\"][n][\"exp_minute\"])\n",
    "\n",
    "# plot .GIF\n",
    "fig, ax = plt.subplots(figsize=(5, 5))\n",
    "def animate(i):\n",
    "    ax.clear()\n",
    "    frame = clip[i].permute(1,2,0).numpy()\n",
    "    ax.imshow(frame)\n",
    "    if len(Y.shape)==0:\n",
    "        ax.set_title(f\"Batch: {exp}, Position: {pos}, Treatment: {T}\\nMinute: {minute}, Frame: {n}\\nB2F or Y2F Groomong: {int(Y)}\")\n",
    "    else:\n",
    "        ax.set_title(f\"Batch: {exp}, Position: {pos}, Treatment: {T}\\nMinute: {minute}, Frame: {n}\\nGrooming: Y2F={int(Y[0])}, B2F={int(Y[1])}\")\n",
    "    ax.axis('off')\n",
    "ani = FuncAnimation(fig, animate, frames=len(clip), interval=1)\n",
    "ani.save(f'clip_{n}.gif', writer='pillow', fps=1)\n",
    "# display the animation\n",
    "from IPython.display import Image\n",
    "Image(filename='clip_animation.gif')\n",
    "plt.show()"
   ]
  },
  {
   "cell_type": "code",
   "execution_count": null,
   "id": "bc7bef75",
   "metadata": {},
   "outputs": [],
   "source": [
    "# visualize random clip\n",
    "i = 512\n",
    "clip = dataset.supervised[\"clip\"][i]\n",
    "T = dataset.supervised[\"T\"][i]\n",
    "Y = dataset.supervised[\"Y\"][i]\n",
    "# visualize gif clip\n",
    "import matplotlib.pyplot as plt\n",
    "from matplotlib.animation import FuncAnimation\n",
    "\n",
    "fig, ax = plt.subplots(figsize=(10, 5))\n",
    "def update(frame):\n",
    "    ax.clear()\n",
    "    ax.imshow(clip[frame], aspect='auto')\n",
    "    ax.set_title(f'Time: {T[frame]}s, Label: {Y[frame]}')\n",
    "    ax.axis('off')\n",
    "ani = FuncAnimation(fig, update, frames=len(clip), repeat=True)\n",
    "plt.show()\n"
   ]
  }
 ],
 "metadata": {
  "kernelspec": {
   "display_name": "crl",
   "language": "python",
   "name": "python3"
  },
  "language_info": {
   "codemirror_mode": {
    "name": "ipython",
    "version": 3
   },
   "file_extension": ".py",
   "mimetype": "text/x-python",
   "name": "python",
   "nbconvert_exporter": "python",
   "pygments_lexer": "ipython3",
   "version": "3.11.5"
  }
 },
 "nbformat": 4,
 "nbformat_minor": 5
}
