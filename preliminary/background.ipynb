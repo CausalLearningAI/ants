{
 "cells": [
  {
   "cell_type": "markdown",
   "id": "bfe56897",
   "metadata": {},
   "source": [
    "### Background\n",
    "\n",
    "Preliminary analysis for background removal by median filtering."
   ]
  },
  {
   "cell_type": "code",
   "execution_count": null,
   "id": "7dad2500",
   "metadata": {},
   "outputs": [],
   "source": [
    "# v1\n",
    "quantile = 0.99\n",
    "# show background for each video and random frame removing it"
   ]
  },
  {
   "cell_type": "code",
   "execution_count": null,
   "id": "7940b67f",
   "metadata": {},
   "outputs": [],
   "source": [
    "# v2\n",
    "quantile = 0.85\n",
    "# show background for each video and random frame removing it"
   ]
  }
 ],
 "metadata": {
  "kernelspec": {
   "display_name": "crl",
   "language": "python",
   "name": "python3"
  },
  "language_info": {
   "name": "python",
   "version": "3.11.5"
  }
 },
 "nbformat": 4,
 "nbformat_minor": 5
}
