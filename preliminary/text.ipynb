{
 "cells": [
  {
   "cell_type": "code",
   "execution_count": null,
   "id": "23930b8c",
   "metadata": {},
   "outputs": [],
   "source": [
    "grooming_B2F = \"grooming\""
   ]
  },
  {
   "cell_type": "code",
   "execution_count": null,
   "id": "07bfe322",
   "metadata": {},
   "outputs": [],
   "source": [
    "from transformers import CLIPTokenizer, CLIPTextModel\n",
    "import torch\n",
    "\n",
    "# Load model\n",
    "model = CLIPTextModel.from_pretrained(\"openai/clip-vit-base-patch32\")\n",
    "tokenizer = CLIPTokenizer.from_pretrained(\"openai/clip-vit-base-patch32\")\n",
    "\n",
    "# Input text\n",
    "text = \"a photo of a cat\"\n",
    "inputs = tokenizer(text, return_tensors=\"pt\")\n",
    "\n",
    "# Get embedding\n",
    "with torch.no_grad():\n",
    "    outputs = model(**inputs)\n",
    "    text_features = outputs.last_hidden_state[:, 0, :]  # CLS token\n",
    "\n",
    "print(text_features.shape)  # (1, 512)"
   ]
  }
 ],
 "metadata": {
  "kernelspec": {
   "display_name": "crl",
   "language": "python",
   "name": "python3"
  },
  "language_info": {
   "codemirror_mode": {
    "name": "ipython",
    "version": 3
   },
   "file_extension": ".py",
   "mimetype": "text/x-python",
   "name": "python",
   "nbconvert_exporter": "python",
   "pygments_lexer": "ipython3",
   "version": "3.11.5"
  }
 },
 "nbformat": 4,
 "nbformat_minor": 5
}
