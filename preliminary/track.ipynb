{
 "cells": [
  {
   "cell_type": "code",
   "execution_count": null,
   "id": "5729e3d4",
   "metadata": {},
   "outputs": [],
   "source": [
    "import os\n",
    "import pandas as pd"
   ]
  },
  {
   "cell_type": "markdown",
   "id": "96fd5ff5",
   "metadata": {},
   "source": [
    "## Tracking"
   ]
  },
  {
   "cell_type": "code",
   "execution_count": null,
   "id": "1425638f",
   "metadata": {},
   "outputs": [],
   "source": [
    "data_dir = \"data/v2\"\n",
    "exp = \"a\"\n",
    "pos = 1\n",
    "tracking_path = os.path.join(data_dir, f\"tracking/position/{exp}{pos}.csv\")\n",
    "tracking = pd.read_csv(tracking_path, engine='python', index_col=0)\n",
    "tracking"
   ]
  },
  {
   "cell_type": "code",
   "execution_count": null,
   "id": "288e6c03",
   "metadata": {},
   "outputs": [],
   "source": [
    "data_dir = \"../data/v2\"\n",
    "exp = \"a\"\n",
    "pos = 1\n",
    "tracking_path = os.path.join(data_dir, f\"tracking/position/{exp}{pos}.csv\")\n",
    "tracking = pd.read_csv(tracking_path, engine='python', index_col=0)\n",
    "def euclidean_distance(row, agent1=\"blue\", agent2=\"focal\"):\n",
    "    return ((row[f\"{agent1}_x\"] - row[f\"{agent2}_x\"]) ** 2 +\n",
    "            (row[f\"{agent1}_y\"] - row[f\"{agent2}_y\"]) ** 2) ** 0.5\n",
    "tracking[\"B2F_dist\"] = tracking.apply(\n",
    "    lambda row: euclidean_distance(row, agent1=\"blue\", agent2=\"focal\"), axis=1)\n",
    "tracking[\"Y2F_dist\"] = tracking.apply(\n",
    "    lambda row: euclidean_distance(row, agent1=\"yellow\", agent2=\"focal\"), axis=1)\n",
    "\n",
    "tracking\n",
    "\n"
   ]
  }
 ],
 "metadata": {
  "kernelspec": {
   "display_name": "crl",
   "language": "python",
   "name": "python3"
  },
  "language_info": {
   "codemirror_mode": {
    "name": "ipython",
    "version": 3
   },
   "file_extension": ".py",
   "mimetype": "text/x-python",
   "name": "python",
   "nbconvert_exporter": "python",
   "pygments_lexer": "ipython3",
   "version": "3.11.5"
  }
 },
 "nbformat": 4,
 "nbformat_minor": 5
}
